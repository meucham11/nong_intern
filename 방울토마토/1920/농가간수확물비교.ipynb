{
 "cells": [
  {
   "cell_type": "code",
   "execution_count": 56,
   "metadata": {},
   "outputs": [],
   "source": [
    "import os\n",
    "import pandas as pd\n",
    "import numpy as np\n",
    "import matplotlib.pyplot as plt\n",
    "import seaborn as sns\n",
    "import datetime\n",
    "from datetime import datetime\n",
    "from datetime import timedelta\n",
    "import pickle\n",
    "from scipy import stats\n",
    "from statsmodels.stats.multicomp import pairwise_tukeyhsd\n",
    "import pingouin as pg\n",
    "\n",
    "\n",
    "import warnings\n",
    "warnings.filterwarnings(action='ignore') \n",
    "\n",
    "# 사이킷런\n",
    "from sklearn.preprocessing import PolynomialFeatures\n",
    "from sklearn.linear_model import LinearRegression\n",
    "\n",
    "# 회귀\n",
    "import statsmodels.api as sm\n",
    "import statsmodels.formula.api as smf"
   ]
  },
  {
   "cell_type": "code",
   "execution_count": 2,
   "metadata": {},
   "outputs": [],
   "source": [
    "pd.set_option('display.max_row', 5000)\n",
    "pd.set_option('display.max_columns', 100)\n",
    "\n",
    "from matplotlib import font_manager, rc\n",
    "import matplotlib\n",
    "font_name = font_manager.FontProperties(fname=\"c:/Windows/Fonts/malgun.ttf\").get_name()\n",
    "\n",
    "rc('font', family=font_name)\n",
    "\n",
    "matplotlib.rcParams['axes.unicode_minus'] = False"
   ]
  },
  {
   "cell_type": "code",
   "execution_count": null,
   "metadata": {},
   "outputs": [],
   "source": []
  },
  {
   "cell_type": "code",
   "execution_count": 3,
   "metadata": {},
   "outputs": [],
   "source": [
    "dir='C:\\\\농업기술원\\\\1차\\\\2019\\\\19-20_방울토마토(4)\\\\'\n",
    "\n",
    "bun_harvest_data1 = pd.read_excel(dir+'19-20_방울토마토_번영농장_권현자(재배기간_2019.07.23~2020.06.10)/19-20작기_방울토마토_번영농장_권현자_생육1.xlsx',sheet_name='수확과')\n",
    "bun_harvest_data2 = pd.read_excel(dir+'19-20_방울토마토_번영농장_권현자(재배기간_2019.07.23~2020.06.10)/19-20작기_방울토마토_번영농장_권현자_생육2.xlsx',sheet_name='수확과')\n",
    "\n",
    "ari_harvest_data1 = pd.read_excel(dir+'19-20_방울토마토_아리울_박문신(재배기간_2019.07.23~2020.06.30)/19-20작기_방울토마토_아리울_박문신_생육1.xlsx',sheet_name='수확과')\n",
    "ari_harvest_data2 = pd.read_excel(dir+'19-20_방울토마토_아리울_박문신(재배기간_2019.07.23~2020.06.30)/19-20작기_방울토마토_아리울_박문신_생육2.xlsx',sheet_name='수확과')\n",
    "\n",
    "ha_harvest_data1 = pd.read_excel(dir+'19-20_방울토마토_하늘농장_유철민(재배기간_2019.07.23~2020.06.28)/19-20작기_방울토마토_하늘농장_유철민_생육1.xlsx',sheet_name='수확과')\n",
    "ha_harvest_data2 = pd.read_excel(dir+'19-20_방울토마토_하늘농장_유철민(재배기간_2019.07.23~2020.06.28)/19-20작기_방울토마토_하늘농장_유철민_생육2.xlsx',sheet_name='수확과')\n",
    "\n",
    "hwa_harvest_data1 = pd.read_excel(dir+'19-20_방울토마토_화천농장_박성호(재배기간_2019.07.25~2020.06.30)/19-20작기_방울토마토_화천농장_박성호_생육1.xlsx',sheet_name='수확과')\n",
    "hwa_harvest_data2 = pd.read_excel(dir+'19-20_방울토마토_화천농장_박성호(재배기간_2019.07.25~2020.06.30)/19-20작기_방울토마토_화천농장_박성호_생육2.xlsx',sheet_name='수확과')"
   ]
  },
  {
   "cell_type": "code",
   "execution_count": 4,
   "metadata": {},
   "outputs": [],
   "source": [
    "s1 = pd.concat([bun_harvest_data1,ari_harvest_data1,ha_harvest_data1,hwa_harvest_data1])"
   ]
  },
  {
   "cell_type": "markdown",
   "metadata": {},
   "source": [
    "# 이상치 제거"
   ]
  },
  {
   "cell_type": "code",
   "execution_count": 63,
   "metadata": {},
   "outputs": [
    {
     "data": {
      "image/png": "[encoded data removed]",
      "text/plain": [
       "<Figure size 432x288 with 1 Axes>"
      ]
     },
     "metadata": {
      "needs_background": "light"
     },
     "output_type": "display_data"
    },
    {
     "data": {
      "image/png": "[encoded data removed]",
      "text/plain": [
       "<Figure size 432x288 with 1 Axes>"
      ]
     },
     "metadata": {
      "needs_background": "light"
     },
     "output_type": "display_data"
    },
    {
     "data": {
      "image/png": "[encoded data removed]",
      "text/plain": [
       "<Figure size 432x288 with 1 Axes>"
      ]
     },
     "metadata": {
      "needs_background": "light"
     },
     "output_type": "display_data"
    }
   ],
   "source": [
    "dataset_what=[]\n",
    "\n",
    "what = ['과중(g)','당도(brix)', '산도(%)']\n",
    "for col in what:\n",
    "    df= s1[['농가명',col]]\n",
    "    \n",
    "    result_df=pd.DataFrame()\n",
    "    for nong in s1['농가명'].unique():\n",
    "        cut_df = df[df['농가명']==nong]\n",
    "        \n",
    "        q1 = cut_df[col].quantile(0.25)\n",
    "        q3 = cut_df[col].quantile(0.75)\n",
    "        \n",
    "        iqt = 1.5 * (q3 - q1)\n",
    "\n",
    "        # 이상치 제거\n",
    "        if iqt!=0:\n",
    "            cut_df=pd.DataFrame(cut_df[(cut_df[col] < (q3 + iqt)) & (cut_df[col] > (q1 - iqt))])\n",
    "        \n",
    "        result_df=pd.concat([result_df,cut_df])\n",
    "    dataset_what.append(result_df)   \n",
    "    sns.boxplot(data=result_df,x='농가명',y=col)\n",
    "    plt.show()"
   ]
  },
  {
   "cell_type": "code",
   "execution_count": 6,
   "metadata": {},
   "outputs": [
    {
     "data": {
      "text/html": [
       "<div>\n",
       "<style scoped>\n",
       "    .dataframe tbody tr th:only-of-type {\n",
       "        vertical-align: middle;\n",
       "    }\n",
       "\n",
       "    .dataframe tbody tr th {\n",
       "        vertical-align: top;\n",
       "    }\n",
       "\n",
       "    .dataframe thead th {\n",
       "        text-align: right;\n",
       "    }\n",
       "</style>\n",
       "<table border=\"1\" class=\"dataframe\">\n",
       "  <thead>\n",
       "    <tr style=\"text-align: right;\">\n",
       "      <th></th>\n",
       "      <th>농가명</th>\n",
       "      <th>과중(g)</th>\n",
       "    </tr>\n",
       "  </thead>\n",
       "  <tbody>\n",
       "    <tr>\n",
       "      <th>0</th>\n",
       "      <td>번영농장</td>\n",
       "      <td>5.39</td>\n",
       "    </tr>\n",
       "    <tr>\n",
       "      <th>1</th>\n",
       "      <td>번영농장</td>\n",
       "      <td>14.53</td>\n",
       "    </tr>\n",
       "    <tr>\n",
       "      <th>2</th>\n",
       "      <td>번영농장</td>\n",
       "      <td>4.95</td>\n",
       "    </tr>\n",
       "    <tr>\n",
       "      <th>3</th>\n",
       "      <td>번영농장</td>\n",
       "      <td>16.06</td>\n",
       "    </tr>\n",
       "    <tr>\n",
       "      <th>4</th>\n",
       "      <td>번영농장</td>\n",
       "      <td>14.71</td>\n",
       "    </tr>\n",
       "    <tr>\n",
       "      <th>...</th>\n",
       "      <td>...</td>\n",
       "      <td>...</td>\n",
       "    </tr>\n",
       "    <tr>\n",
       "      <th>1395</th>\n",
       "      <td>화천농장</td>\n",
       "      <td>15.62</td>\n",
       "    </tr>\n",
       "    <tr>\n",
       "      <th>1396</th>\n",
       "      <td>화천농장</td>\n",
       "      <td>17.19</td>\n",
       "    </tr>\n",
       "    <tr>\n",
       "      <th>1397</th>\n",
       "      <td>화천농장</td>\n",
       "      <td>14.68</td>\n",
       "    </tr>\n",
       "    <tr>\n",
       "      <th>1398</th>\n",
       "      <td>화천농장</td>\n",
       "      <td>14.60</td>\n",
       "    </tr>\n",
       "    <tr>\n",
       "      <th>1399</th>\n",
       "      <td>화천농장</td>\n",
       "      <td>12.02</td>\n",
       "    </tr>\n",
       "  </tbody>\n",
       "</table>\n",
       "<p>5300 rows × 2 columns</p>\n",
       "</div>"
      ],
      "text/plain": [
       "       농가명  과중(g)\n",
       "0     번영농장   5.39\n",
       "1     번영농장  14.53\n",
       "2     번영농장   4.95\n",
       "3     번영농장  16.06\n",
       "4     번영농장  14.71\n",
       "...    ...    ...\n",
       "1395  화천농장  15.62\n",
       "1396  화천농장  17.19\n",
       "1397  화천농장  14.68\n",
       "1398  화천농장  14.60\n",
       "1399  화천농장  12.02\n",
       "\n",
       "[5300 rows x 2 columns]"
      ]
     },
     "execution_count": 6,
     "metadata": {},
     "output_type": "execute_result"
    }
   ],
   "source": [
    "s1[['농가명','과중(g)']]"
   ]
  },
  {
   "cell_type": "code",
   "execution_count": 11,
   "metadata": {},
   "outputs": [
    {
     "data": {
      "text/html": [
       "<div>\n",
       "<style scoped>\n",
       "    .dataframe tbody tr th:only-of-type {\n",
       "        vertical-align: middle;\n",
       "    }\n",
       "\n",
       "    .dataframe tbody tr th {\n",
       "        vertical-align: top;\n",
       "    }\n",
       "\n",
       "    .dataframe thead th {\n",
       "        text-align: right;\n",
       "    }\n",
       "</style>\n",
       "<table border=\"1\" class=\"dataframe\">\n",
       "  <thead>\n",
       "    <tr style=\"text-align: right;\">\n",
       "      <th></th>\n",
       "      <th>농가명</th>\n",
       "      <th>날짜</th>\n",
       "      <th>주차</th>\n",
       "      <th>샘플</th>\n",
       "      <th>화방</th>\n",
       "      <th>수확번호</th>\n",
       "      <th>과중(g)</th>\n",
       "      <th>과폭(mm)</th>\n",
       "      <th>과고(mm)</th>\n",
       "      <th>당도(brix)</th>\n",
       "      <th>산도(%)</th>\n",
       "      <th>Unnamed: 11</th>\n",
       "    </tr>\n",
       "  </thead>\n",
       "  <tbody>\n",
       "    <tr>\n",
       "      <th>0</th>\n",
       "      <td>번영농장</td>\n",
       "      <td>2019-09-18</td>\n",
       "      <td>38</td>\n",
       "      <td>1</td>\n",
       "      <td>1</td>\n",
       "      <td>1</td>\n",
       "      <td>5.39</td>\n",
       "      <td>18.66</td>\n",
       "      <td>26.15</td>\n",
       "      <td>6.2</td>\n",
       "      <td>0.69</td>\n",
       "      <td>NaN</td>\n",
       "    </tr>\n",
       "    <tr>\n",
       "      <th>1</th>\n",
       "      <td>번영농장</td>\n",
       "      <td>2019-09-18</td>\n",
       "      <td>38</td>\n",
       "      <td>1</td>\n",
       "      <td>1</td>\n",
       "      <td>2</td>\n",
       "      <td>14.53</td>\n",
       "      <td>25.42</td>\n",
       "      <td>38.99</td>\n",
       "      <td>6.7</td>\n",
       "      <td>0.94</td>\n",
       "      <td>NaN</td>\n",
       "    </tr>\n",
       "    <tr>\n",
       "      <th>2</th>\n",
       "      <td>번영농장</td>\n",
       "      <td>2019-09-18</td>\n",
       "      <td>38</td>\n",
       "      <td>1</td>\n",
       "      <td>1</td>\n",
       "      <td>3</td>\n",
       "      <td>4.95</td>\n",
       "      <td>17.93</td>\n",
       "      <td>26.29</td>\n",
       "      <td>5.4</td>\n",
       "      <td>0.58</td>\n",
       "      <td>NaN</td>\n",
       "    </tr>\n",
       "    <tr>\n",
       "      <th>3</th>\n",
       "      <td>번영농장</td>\n",
       "      <td>2019-09-18</td>\n",
       "      <td>38</td>\n",
       "      <td>1</td>\n",
       "      <td>1</td>\n",
       "      <td>4</td>\n",
       "      <td>16.06</td>\n",
       "      <td>26.78</td>\n",
       "      <td>38.13</td>\n",
       "      <td>6.9</td>\n",
       "      <td>0.94</td>\n",
       "      <td>NaN</td>\n",
       "    </tr>\n",
       "    <tr>\n",
       "      <th>4</th>\n",
       "      <td>번영농장</td>\n",
       "      <td>2019-09-18</td>\n",
       "      <td>38</td>\n",
       "      <td>2</td>\n",
       "      <td>1</td>\n",
       "      <td>1</td>\n",
       "      <td>14.71</td>\n",
       "      <td>24.47</td>\n",
       "      <td>39.26</td>\n",
       "      <td>8.7</td>\n",
       "      <td>0.76</td>\n",
       "      <td>NaN</td>\n",
       "    </tr>\n",
       "    <tr>\n",
       "      <th>...</th>\n",
       "      <td>...</td>\n",
       "      <td>...</td>\n",
       "      <td>...</td>\n",
       "      <td>...</td>\n",
       "      <td>...</td>\n",
       "      <td>...</td>\n",
       "      <td>...</td>\n",
       "      <td>...</td>\n",
       "      <td>...</td>\n",
       "      <td>...</td>\n",
       "      <td>...</td>\n",
       "      <td>...</td>\n",
       "    </tr>\n",
       "    <tr>\n",
       "      <th>1395</th>\n",
       "      <td>화천농장</td>\n",
       "      <td>2020-01-20</td>\n",
       "      <td>4</td>\n",
       "      <td>6</td>\n",
       "      <td>14</td>\n",
       "      <td>10</td>\n",
       "      <td>15.62</td>\n",
       "      <td>35.49</td>\n",
       "      <td>28.43</td>\n",
       "      <td>4.7</td>\n",
       "      <td>1.28</td>\n",
       "      <td>NaN</td>\n",
       "    </tr>\n",
       "    <tr>\n",
       "      <th>1396</th>\n",
       "      <td>화천농장</td>\n",
       "      <td>2020-01-20</td>\n",
       "      <td>4</td>\n",
       "      <td>6</td>\n",
       "      <td>14</td>\n",
       "      <td>11</td>\n",
       "      <td>17.19</td>\n",
       "      <td>NaN</td>\n",
       "      <td>NaN</td>\n",
       "      <td>NaN</td>\n",
       "      <td>NaN</td>\n",
       "      <td>NaN</td>\n",
       "    </tr>\n",
       "    <tr>\n",
       "      <th>1397</th>\n",
       "      <td>화천농장</td>\n",
       "      <td>2020-01-20</td>\n",
       "      <td>4</td>\n",
       "      <td>6</td>\n",
       "      <td>14</td>\n",
       "      <td>12</td>\n",
       "      <td>14.68</td>\n",
       "      <td>NaN</td>\n",
       "      <td>NaN</td>\n",
       "      <td>NaN</td>\n",
       "      <td>NaN</td>\n",
       "      <td>NaN</td>\n",
       "    </tr>\n",
       "    <tr>\n",
       "      <th>1398</th>\n",
       "      <td>화천농장</td>\n",
       "      <td>2020-01-20</td>\n",
       "      <td>4</td>\n",
       "      <td>6</td>\n",
       "      <td>14</td>\n",
       "      <td>13</td>\n",
       "      <td>14.60</td>\n",
       "      <td>NaN</td>\n",
       "      <td>NaN</td>\n",
       "      <td>NaN</td>\n",
       "      <td>NaN</td>\n",
       "      <td>NaN</td>\n",
       "    </tr>\n",
       "    <tr>\n",
       "      <th>1399</th>\n",
       "      <td>화천농장</td>\n",
       "      <td>2020-01-20</td>\n",
       "      <td>4</td>\n",
       "      <td>6</td>\n",
       "      <td>14</td>\n",
       "      <td>14</td>\n",
       "      <td>12.02</td>\n",
       "      <td>NaN</td>\n",
       "      <td>NaN</td>\n",
       "      <td>NaN</td>\n",
       "      <td>NaN</td>\n",
       "      <td>NaN</td>\n",
       "    </tr>\n",
       "  </tbody>\n",
       "</table>\n",
       "<p>5300 rows × 12 columns</p>\n",
       "</div>"
      ],
      "text/plain": [
       "       농가명         날짜  주차  샘플  화방  수확번호  과중(g)  과폭(mm)  과고(mm)  당도(brix)  \\\n",
       "0     번영농장 2019-09-18  38   1   1     1   5.39   18.66   26.15       6.2   \n",
       "1     번영농장 2019-09-18  38   1   1     2  14.53   25.42   38.99       6.7   \n",
       "2     번영농장 2019-09-18  38   1   1     3   4.95   17.93   26.29       5.4   \n",
       "3     번영농장 2019-09-18  38   1   1     4  16.06   26.78   38.13       6.9   \n",
       "4     번영농장 2019-09-18  38   2   1     1  14.71   24.47   39.26       8.7   \n",
       "...    ...        ...  ..  ..  ..   ...    ...     ...     ...       ...   \n",
       "1395  화천농장 2020-01-20   4   6  14    10  15.62   35.49   28.43       4.7   \n",
       "1396  화천농장 2020-01-20   4   6  14    11  17.19     NaN     NaN       NaN   \n",
       "1397  화천농장 2020-01-20   4   6  14    12  14.68     NaN     NaN       NaN   \n",
       "1398  화천농장 2020-01-20   4   6  14    13  14.60     NaN     NaN       NaN   \n",
       "1399  화천농장 2020-01-20   4   6  14    14  12.02     NaN     NaN       NaN   \n",
       "\n",
       "      산도(%)  Unnamed: 11  \n",
       "0      0.69          NaN  \n",
       "1      0.94          NaN  \n",
       "2      0.58          NaN  \n",
       "3      0.94          NaN  \n",
       "4      0.76          NaN  \n",
       "...     ...          ...  \n",
       "1395   1.28          NaN  \n",
       "1396    NaN          NaN  \n",
       "1397    NaN          NaN  \n",
       "1398    NaN          NaN  \n",
       "1399    NaN          NaN  \n",
       "\n",
       "[5300 rows x 12 columns]"
      ]
     },
     "execution_count": 11,
     "metadata": {},
     "output_type": "execute_result"
    }
   ],
   "source": [
    "s1"
   ]
  },
  {
   "cell_type": "code",
   "execution_count": 19,
   "metadata": {},
   "outputs": [],
   "source": [
    "nong_list=s1['농가명'].unique()"
   ]
  },
  {
   "cell_type": "code",
   "execution_count": 68,
   "metadata": {},
   "outputs": [],
   "source": [
    "def select_col(num,col):\n",
    "    result = []\n",
    "    d=dataset_what[num]\n",
    "    for i in nong_list:\n",
    "        df = d[['농가명',col]]\n",
    "        df = df.dropna()\n",
    "        df = df[df['농가명']==i]\n",
    "\n",
    "        result.append(df)\n",
    "    return result"
   ]
  },
  {
   "cell_type": "code",
   "execution_count": null,
   "metadata": {},
   "outputs": [],
   "source": []
  },
  {
   "cell_type": "code",
   "execution_count": null,
   "metadata": {},
   "outputs": [],
   "source": []
  },
  {
   "cell_type": "code",
   "execution_count": 9,
   "metadata": {},
   "outputs": [],
   "source": []
  },
  {
   "cell_type": "markdown",
   "metadata": {},
   "source": [
    "# 1기작간에 농가별 수확과 비교"
   ]
  },
  {
   "cell_type": "markdown",
   "metadata": {},
   "source": [
    "## 과중"
   ]
  },
  {
   "cell_type": "code",
   "execution_count": 73,
   "metadata": {},
   "outputs": [],
   "source": [
    "num=0\n",
    "col='과중(g)'"
   ]
  },
  {
   "cell_type": "code",
   "execution_count": 74,
   "metadata": {},
   "outputs": [
    {
     "data": {
      "text/plain": [
       "<matplotlib.axes._subplots.AxesSubplot at 0x29cc9a551c0>"
      ]
     },
     "execution_count": 74,
     "metadata": {},
     "output_type": "execute_result"
    },
    {
     "data": {
      "image/png": "[encoded data removed]",
      "text/plain": [
       "<Figure size 432x288 with 1 Axes>"
      ]
     },
     "metadata": {
      "needs_background": "light"
     },
     "output_type": "display_data"
    }
   ],
   "source": [
    "sns.boxplot(data = dataset_what[num], x = '농가명',y=col)"
   ]
  },
  {
   "cell_type": "code",
   "execution_count": 85,
   "metadata": {},
   "outputs": [],
   "source": [
    "result=select_col(num,col)"
   ]
  },
  {
   "cell_type": "code",
   "execution_count": 76,
   "metadata": {},
   "outputs": [
    {
     "data": {
      "text/plain": [
       "LeveneResult(statistic=4.74034500225546, pvalue=0.0008109578822141311)"
      ]
     },
     "execution_count": 76,
     "metadata": {},
     "output_type": "execute_result"
    }
   ],
   "source": [
    "# 등분산성검정\n",
    "stats.levene(result[0][col],result[1][col],result[2][col],result[3][col],result[4][col])"
   ]
  },
  {
   "cell_type": "code",
   "execution_count": 77,
   "metadata": {},
   "outputs": [
    {
     "data": {
      "text/html": [
       "<div>\n",
       "<style scoped>\n",
       "    .dataframe tbody tr th:only-of-type {\n",
       "        vertical-align: middle;\n",
       "    }\n",
       "\n",
       "    .dataframe tbody tr th {\n",
       "        vertical-align: top;\n",
       "    }\n",
       "\n",
       "    .dataframe thead th {\n",
       "        text-align: right;\n",
       "    }\n",
       "</style>\n",
       "<table border=\"1\" class=\"dataframe\">\n",
       "  <thead>\n",
       "    <tr style=\"text-align: right;\">\n",
       "      <th></th>\n",
       "      <th>Source</th>\n",
       "      <th>ddof1</th>\n",
       "      <th>ddof2</th>\n",
       "      <th>F</th>\n",
       "      <th>p-unc</th>\n",
       "      <th>np2</th>\n",
       "    </tr>\n",
       "  </thead>\n",
       "  <tbody>\n",
       "    <tr>\n",
       "      <th>0</th>\n",
       "      <td>농가명</td>\n",
       "      <td>4</td>\n",
       "      <td>2500.955359</td>\n",
       "      <td>288.47522</td>\n",
       "      <td>3.658638e-204</td>\n",
       "      <td>0.186098</td>\n",
       "    </tr>\n",
       "  </tbody>\n",
       "</table>\n",
       "</div>"
      ],
      "text/plain": [
       "  Source  ddof1        ddof2          F          p-unc       np2\n",
       "0    농가명      4  2500.955359  288.47522  3.658638e-204  0.186098"
      ]
     },
     "execution_count": 77,
     "metadata": {},
     "output_type": "execute_result"
    }
   ],
   "source": [
    "pg.welch_anova(dv = col,\n",
    "              between = '농가명',\n",
    "              data = pd.concat(result))"
   ]
  },
  {
   "cell_type": "code",
   "execution_count": 78,
   "metadata": {},
   "outputs": [
    {
     "data": {
      "text/html": [
       "<table class=\"simpletable\">\n",
       "<caption>Multiple Comparison of Means - Tukey HSD, FWER=0.05</caption>\n",
       "<tr>\n",
       "  <th>group1</th>  <th>group2</th>  <th>meandiff</th>  <th>p-adj</th>  <th>lower</th>   <th>upper</th> <th>reject</th>\n",
       "</tr>\n",
       "<tr>\n",
       "   <td>번영농장</td>     <td>아리울</td>    <td>1.0122</td>   <td>0.001</td> <td>0.6055</td>  <td>1.4189</td>  <td>True</td> \n",
       "</tr>\n",
       "<tr>\n",
       "   <td>번영농장</td>   <td>하늘농장(구)</td>  <td>3.0212</td>   <td>0.001</td> <td>2.5992</td>  <td>3.4431</td>  <td>True</td> \n",
       "</tr>\n",
       "<tr>\n",
       "   <td>번영농장</td>   <td>하늘농장(신)</td>  <td>2.7742</td>   <td>0.001</td> <td>2.3573</td>  <td>3.1912</td>  <td>True</td> \n",
       "</tr>\n",
       "<tr>\n",
       "   <td>번영농장</td>    <td>화천농장</td>    <td>4.3331</td>   <td>0.001</td> <td>3.9594</td>  <td>4.7068</td>  <td>True</td> \n",
       "</tr>\n",
       "<tr>\n",
       "    <td>아리울</td>   <td>하늘농장(구)</td>   <td>2.009</td>   <td>0.001</td> <td>1.5727</td>  <td>2.4452</td>  <td>True</td> \n",
       "</tr>\n",
       "<tr>\n",
       "    <td>아리울</td>   <td>하늘농장(신)</td>   <td>1.762</td>   <td>0.001</td> <td>1.3306</td>  <td>2.1935</td>  <td>True</td> \n",
       "</tr>\n",
       "<tr>\n",
       "    <td>아리울</td>    <td>화천농장</td>    <td>3.3209</td>   <td>0.001</td> <td>2.9311</td>  <td>3.7107</td>  <td>True</td> \n",
       "</tr>\n",
       "<tr>\n",
       "  <td>하늘농장(구)</td> <td>하늘농장(신)</td>  <td>-0.2469</td> <td>0.5477</td> <td>-0.6928</td> <td>0.1989</td>  <td>False</td>\n",
       "</tr>\n",
       "<tr>\n",
       "  <td>하늘농장(구)</td>  <td>화천농장</td>    <td>1.3119</td>   <td>0.001</td> <td>0.9062</td>  <td>1.7176</td>  <td>True</td> \n",
       "</tr>\n",
       "<tr>\n",
       "  <td>하늘농장(신)</td>  <td>화천농장</td>    <td>1.5588</td>   <td>0.001</td> <td>1.1584</td>  <td>1.9593</td>  <td>True</td> \n",
       "</tr>\n",
       "</table>"
      ],
      "text/plain": [
       "<class 'statsmodels.iolib.table.SimpleTable'>"
      ]
     },
     "execution_count": 78,
     "metadata": {},
     "output_type": "execute_result"
    }
   ],
   "source": [
    "# 사후검정\n",
    "hsd = pairwise_tukeyhsd(pd.concat(result)[col], pd.concat(result)['농가명'], alpha=0.05)\n",
    "hsd.summary()"
   ]
  },
  {
   "cell_type": "code",
   "execution_count": 25,
   "metadata": {},
   "outputs": [
    {
     "data": {
      "text/plain": [
       "LeveneResult(statistic=1.9653206867893345, pvalue=0.09696167162759113)"
      ]
     },
     "execution_count": 25,
     "metadata": {},
     "output_type": "execute_result"
    }
   ],
   "source": []
  },
  {
   "cell_type": "markdown",
   "metadata": {},
   "source": [
    "## 당도"
   ]
  },
  {
   "cell_type": "code",
   "execution_count": 86,
   "metadata": {},
   "outputs": [],
   "source": [
    "num=1\n",
    "col='당도(brix)'"
   ]
  },
  {
   "cell_type": "code",
   "execution_count": 87,
   "metadata": {},
   "outputs": [
    {
     "data": {
      "text/plain": [
       "<matplotlib.axes._subplots.AxesSubplot at 0x29cc9c277f0>"
      ]
     },
     "execution_count": 87,
     "metadata": {},
     "output_type": "execute_result"
    },
    {
     "data": {
      "image/png": "[encoded data removed]",
      "text/plain": [
       "<Figure size 432x288 with 1 Axes>"
      ]
     },
     "metadata": {
      "needs_background": "light"
     },
     "output_type": "display_data"
    }
   ],
   "source": [
    "sns.boxplot(data = dataset_what[num], x = '농가명',y=col)"
   ]
  },
  {
   "cell_type": "code",
   "execution_count": 88,
   "metadata": {},
   "outputs": [],
   "source": [
    "result=select_col(num,col)"
   ]
  },
  {
   "cell_type": "code",
   "execution_count": 89,
   "metadata": {},
   "outputs": [
    {
     "data": {
      "text/plain": [
       "LeveneResult(statistic=11.857888995134699, pvalue=1.7260482307502985e-09)"
      ]
     },
     "execution_count": 89,
     "metadata": {},
     "output_type": "execute_result"
    }
   ],
   "source": [
    "# 등분산성검정\n",
    "stats.levene(result[0][col],result[1][col],result[2][col],result[3][col],result[4][col])"
   ]
  },
  {
   "cell_type": "code",
   "execution_count": 90,
   "metadata": {},
   "outputs": [
    {
     "data": {
      "text/html": [
       "<div>\n",
       "<style scoped>\n",
       "    .dataframe tbody tr th:only-of-type {\n",
       "        vertical-align: middle;\n",
       "    }\n",
       "\n",
       "    .dataframe tbody tr th {\n",
       "        vertical-align: top;\n",
       "    }\n",
       "\n",
       "    .dataframe thead th {\n",
       "        text-align: right;\n",
       "    }\n",
       "</style>\n",
       "<table border=\"1\" class=\"dataframe\">\n",
       "  <thead>\n",
       "    <tr style=\"text-align: right;\">\n",
       "      <th></th>\n",
       "      <th>Source</th>\n",
       "      <th>ddof1</th>\n",
       "      <th>ddof2</th>\n",
       "      <th>F</th>\n",
       "      <th>p-unc</th>\n",
       "      <th>np2</th>\n",
       "    </tr>\n",
       "  </thead>\n",
       "  <tbody>\n",
       "    <tr>\n",
       "      <th>0</th>\n",
       "      <td>농가명</td>\n",
       "      <td>4</td>\n",
       "      <td>699.967686</td>\n",
       "      <td>131.716994</td>\n",
       "      <td>7.688488e-84</td>\n",
       "      <td>0.230329</td>\n",
       "    </tr>\n",
       "  </tbody>\n",
       "</table>\n",
       "</div>"
      ],
      "text/plain": [
       "  Source  ddof1       ddof2           F         p-unc       np2\n",
       "0    농가명      4  699.967686  131.716994  7.688488e-84  0.230329"
      ]
     },
     "execution_count": 90,
     "metadata": {},
     "output_type": "execute_result"
    }
   ],
   "source": [
    "pg.welch_anova(dv = col,\n",
    "              between = '농가명',\n",
    "              data = pd.concat(result))"
   ]
  },
  {
   "cell_type": "code",
   "execution_count": 91,
   "metadata": {},
   "outputs": [
    {
     "data": {
      "text/html": [
       "<table class=\"simpletable\">\n",
       "<caption>Multiple Comparison of Means - Tukey HSD, FWER=0.05</caption>\n",
       "<tr>\n",
       "  <th>group1</th>  <th>group2</th>  <th>meandiff</th>  <th>p-adj</th>  <th>lower</th>   <th>upper</th>  <th>reject</th>\n",
       "</tr>\n",
       "<tr>\n",
       "   <td>번영농장</td>     <td>아리울</td>    <td>0.6522</td>   <td>0.001</td> <td>0.4479</td>  <td>0.8564</td>   <td>True</td> \n",
       "</tr>\n",
       "<tr>\n",
       "   <td>번영농장</td>   <td>하늘농장(구)</td>  <td>0.3195</td>   <td>0.001</td> <td>0.0975</td>  <td>0.5415</td>   <td>True</td> \n",
       "</tr>\n",
       "<tr>\n",
       "   <td>번영농장</td>   <td>하늘농장(신)</td>  <td>0.1438</td>  <td>0.3884</td> <td>-0.0772</td> <td>0.3648</td>   <td>False</td>\n",
       "</tr>\n",
       "<tr>\n",
       "   <td>번영농장</td>    <td>화천농장</td>    <td>-0.7681</td>  <td>0.001</td>  <td>-0.96</td>  <td>-0.5763</td>  <td>True</td> \n",
       "</tr>\n",
       "<tr>\n",
       "    <td>아리울</td>   <td>하늘농장(구)</td>  <td>-0.3327</td>  <td>0.001</td> <td>-0.5551</td> <td>-0.1102</td>  <td>True</td> \n",
       "</tr>\n",
       "<tr>\n",
       "    <td>아리울</td>   <td>하늘농장(신)</td>  <td>-0.5084</td>  <td>0.001</td> <td>-0.7298</td> <td>-0.287</td>   <td>True</td> \n",
       "</tr>\n",
       "<tr>\n",
       "    <td>아리울</td>    <td>화천농장</td>    <td>-1.4203</td>  <td>0.001</td> <td>-1.6127</td> <td>-1.228</td>   <td>True</td> \n",
       "</tr>\n",
       "<tr>\n",
       "  <td>하늘농장(구)</td> <td>하늘농장(신)</td>  <td>-0.1757</td> <td>0.2581</td> <td>-0.4136</td> <td>0.0622</td>   <td>False</td>\n",
       "</tr>\n",
       "<tr>\n",
       "  <td>하늘농장(구)</td>  <td>화천농장</td>    <td>-1.0876</td>  <td>0.001</td> <td>-1.2988</td> <td>-0.8765</td>  <td>True</td> \n",
       "</tr>\n",
       "<tr>\n",
       "  <td>하늘농장(신)</td>  <td>화천농장</td>    <td>-0.9119</td>  <td>0.001</td> <td>-1.1219</td> <td>-0.7019</td>  <td>True</td> \n",
       "</tr>\n",
       "</table>"
      ],
      "text/plain": [
       "<class 'statsmodels.iolib.table.SimpleTable'>"
      ]
     },
     "execution_count": 91,
     "metadata": {},
     "output_type": "execute_result"
    }
   ],
   "source": [
    "# 사후검정\n",
    "hsd = pairwise_tukeyhsd(pd.concat(result)[col], pd.concat(result)['농가명'], alpha=0.05)\n",
    "hsd.summary()"
   ]
  },
  {
   "cell_type": "code",
   "execution_count": null,
   "metadata": {},
   "outputs": [],
   "source": []
  },
  {
   "cell_type": "code",
   "execution_count": null,
   "metadata": {},
   "outputs": [],
   "source": []
  },
  {
   "cell_type": "markdown",
   "metadata": {},
   "source": [
    "## 산도"
   ]
  },
  {
   "cell_type": "code",
   "execution_count": 99,
   "metadata": {},
   "outputs": [],
   "source": [
    "num=2\n",
    "col='산도(%)'"
   ]
  },
  {
   "cell_type": "code",
   "execution_count": 100,
   "metadata": {},
   "outputs": [
    {
     "data": {
      "text/plain": [
       "<matplotlib.axes._subplots.AxesSubplot at 0x29cc9e5c9d0>"
      ]
     },
     "execution_count": 100,
     "metadata": {},
     "output_type": "execute_result"
    },
    {
     "data": {
      "image/png": "[encoded data removed]",
      "text/plain": [
       "<Figure size 432x288 with 1 Axes>"
      ]
     },
     "metadata": {
      "needs_background": "light"
     },
     "output_type": "display_data"
    }
   ],
   "source": [
    "sns.boxplot(data = dataset_what[num], x = '농가명',y=col)"
   ]
  },
  {
   "cell_type": "code",
   "execution_count": 101,
   "metadata": {},
   "outputs": [],
   "source": [
    "result=select_col(num,col)"
   ]
  },
  {
   "cell_type": "code",
   "execution_count": 102,
   "metadata": {},
   "outputs": [
    {
     "data": {
      "text/plain": [
       "LeveneResult(statistic=5.5910493509787065, pvalue=0.00018225088145022486)"
      ]
     },
     "execution_count": 102,
     "metadata": {},
     "output_type": "execute_result"
    }
   ],
   "source": [
    "# 등분산성검정\n",
    "stats.levene(result[0][col],result[1][col],result[2][col],result[3][col],result[4][col])"
   ]
  },
  {
   "cell_type": "code",
   "execution_count": 103,
   "metadata": {},
   "outputs": [
    {
     "data": {
      "text/html": [
       "<div>\n",
       "<style scoped>\n",
       "    .dataframe tbody tr th:only-of-type {\n",
       "        vertical-align: middle;\n",
       "    }\n",
       "\n",
       "    .dataframe tbody tr th {\n",
       "        vertical-align: top;\n",
       "    }\n",
       "\n",
       "    .dataframe thead th {\n",
       "        text-align: right;\n",
       "    }\n",
       "</style>\n",
       "<table border=\"1\" class=\"dataframe\">\n",
       "  <thead>\n",
       "    <tr style=\"text-align: right;\">\n",
       "      <th></th>\n",
       "      <th>Source</th>\n",
       "      <th>ddof1</th>\n",
       "      <th>ddof2</th>\n",
       "      <th>F</th>\n",
       "      <th>p-unc</th>\n",
       "      <th>np2</th>\n",
       "    </tr>\n",
       "  </thead>\n",
       "  <tbody>\n",
       "    <tr>\n",
       "      <th>0</th>\n",
       "      <td>농가명</td>\n",
       "      <td>4</td>\n",
       "      <td>692.042871</td>\n",
       "      <td>31.296191</td>\n",
       "      <td>5.574493e-24</td>\n",
       "      <td>0.080425</td>\n",
       "    </tr>\n",
       "  </tbody>\n",
       "</table>\n",
       "</div>"
      ],
      "text/plain": [
       "  Source  ddof1       ddof2          F         p-unc       np2\n",
       "0    농가명      4  692.042871  31.296191  5.574493e-24  0.080425"
      ]
     },
     "execution_count": 103,
     "metadata": {},
     "output_type": "execute_result"
    }
   ],
   "source": [
    "pg.welch_anova(dv = col,\n",
    "              between = '농가명',\n",
    "              data = pd.concat(result))"
   ]
  },
  {
   "cell_type": "code",
   "execution_count": 104,
   "metadata": {},
   "outputs": [
    {
     "data": {
      "text/html": [
       "<table class=\"simpletable\">\n",
       "<caption>Multiple Comparison of Means - Tukey HSD, FWER=0.05</caption>\n",
       "<tr>\n",
       "  <th>group1</th>  <th>group2</th>  <th>meandiff</th>  <th>p-adj</th>  <th>lower</th>   <th>upper</th>  <th>reject</th>\n",
       "</tr>\n",
       "<tr>\n",
       "   <td>번영농장</td>     <td>아리울</td>    <td>0.0688</td>   <td>0.001</td> <td>0.0333</td>  <td>0.1044</td>   <td>True</td> \n",
       "</tr>\n",
       "<tr>\n",
       "   <td>번영농장</td>   <td>하늘농장(구)</td>  <td>-0.0432</td> <td>0.0151</td> <td>-0.0808</td> <td>-0.0056</td>  <td>True</td> \n",
       "</tr>\n",
       "<tr>\n",
       "   <td>번영농장</td>   <td>하늘농장(신)</td>  <td>-0.029</td>  <td>0.2139</td> <td>-0.0665</td> <td>0.0084</td>   <td>False</td>\n",
       "</tr>\n",
       "<tr>\n",
       "   <td>번영농장</td>    <td>화천농장</td>    <td>0.0682</td>   <td>0.001</td> <td>0.0351</td>  <td>0.1013</td>   <td>True</td> \n",
       "</tr>\n",
       "<tr>\n",
       "    <td>아리울</td>   <td>하늘농장(구)</td>  <td>-0.112</td>   <td>0.001</td> <td>-0.1504</td> <td>-0.0736</td>  <td>True</td> \n",
       "</tr>\n",
       "<tr>\n",
       "    <td>아리울</td>   <td>하늘농장(신)</td>  <td>-0.0979</td>  <td>0.001</td> <td>-0.1362</td> <td>-0.0596</td>  <td>True</td> \n",
       "</tr>\n",
       "<tr>\n",
       "    <td>아리울</td>    <td>화천농장</td>    <td>-0.0006</td>   <td>0.9</td>  <td>-0.0347</td> <td>0.0334</td>   <td>False</td>\n",
       "</tr>\n",
       "<tr>\n",
       "  <td>하늘농장(구)</td> <td>하늘농장(신)</td>  <td>0.0141</td>  <td>0.8606</td> <td>-0.0261</td> <td>0.0544</td>   <td>False</td>\n",
       "</tr>\n",
       "<tr>\n",
       "  <td>하늘농장(구)</td>  <td>화천농장</td>    <td>0.1114</td>   <td>0.001</td> <td>0.0752</td>  <td>0.1476</td>   <td>True</td> \n",
       "</tr>\n",
       "<tr>\n",
       "  <td>하늘농장(신)</td>  <td>화천농장</td>    <td>0.0972</td>   <td>0.001</td> <td>0.0612</td>  <td>0.1333</td>   <td>True</td> \n",
       "</tr>\n",
       "</table>"
      ],
      "text/plain": [
       "<class 'statsmodels.iolib.table.SimpleTable'>"
      ]
     },
     "execution_count": 104,
     "metadata": {},
     "output_type": "execute_result"
    }
   ],
   "source": [
    "# 사후검정\n",
    "hsd = pairwise_tukeyhsd(pd.concat(result)[col], pd.concat(result)['농가명'], alpha=0.05)\n",
    "hsd.summary()"
   ]
  }
 ],
 "metadata": {
  "kernelspec": {
   "display_name": "Python 3",
   "language": "python",
   "name": "python3"
  },
  "language_info": {
   "codemirror_mode": {
    "name": "ipython",
    "version": 3
   },
   "file_extension": ".py",
   "mimetype": "text/x-python",
   "name": "python",
   "nbconvert_exporter": "python",
   "pygments_lexer": "ipython3",
   "version": "3.8.3"
  }
 },
 "nbformat": 4,
 "nbformat_minor": 4
}
