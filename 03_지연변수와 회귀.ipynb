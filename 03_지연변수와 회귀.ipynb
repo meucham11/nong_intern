{
 "cells": [
  {
   "cell_type": "code",
   "execution_count": 1,
   "metadata": {},
   "outputs": [],
   "source": [
    "import os\n",
    "import pandas as pd\n",
    "import numpy as np\n",
    "import matplotlib.pyplot as plt\n",
    "import seaborn as sns\n",
    "import datetime\n",
    "from datetime import datetime\n",
    "from datetime import timedelta\n",
    "\n",
    "import warnings\n",
    "warnings.filterwarnings(action='ignore') \n",
    "\n",
    "# 사이킷런\n",
    "from sklearn.preprocessing import PolynomialFeatures\n",
    "from sklearn.linear_model import LinearRegression"
   ]
  },
  {
   "cell_type": "code",
   "execution_count": 2,
   "metadata": {},
   "outputs": [],
   "source": [
    "pd.set_option('display.max_row', 5000)\n",
    "pd.set_option('display.max_columns', 100)\n",
    "\n",
    "from matplotlib import font_manager, rc\n",
    "import matplotlib\n",
    "font_name = font_manager.FontProperties(fname=\"c:/Windows/Fonts/malgun.ttf\").get_name()\n",
    "\n",
    "rc('font', family=font_name)\n",
    "\n",
    "matplotlib.rcParams['axes.unicode_minus'] = False"
   ]
  },
  {
   "cell_type": "markdown",
   "metadata": {},
   "source": [
    "# 지연변수 만들기\n",
    "* 각 농가별 주차별로\n",
    "* 농가 모두 합쳐서 전체 표본을 대상으로\n",
    "</br>\n",
    "</br>지연 시간은 5주 ~ 10주까지 돌려보자\n",
    "1. 생장길이\n",
    "2. 경경\n",
    "3. 화방높이"
   ]
  },
  {
   "cell_type": "markdown",
   "metadata": {},
   "source": [
    "----\n",
    "# 사용자 지정함수"
   ]
  },
  {
   "cell_type": "code",
   "execution_count": 3,
   "metadata": {},
   "outputs": [],
   "source": [
    "# 생육 데이터 로드\n",
    "def sang_data_load(sang_farm_name):\n",
    "    n = 'C:\\\\농업기술원\\\\1차\\\\2018\\\\2018-2019 토마토_생육(원본)/'+sang_farm_name+'.xlsx'\n",
    "    col = ['농가명', 'Date', 'Year', 'Month', 'Day', 'Week', 'WeekNum', 'Sample', '생장길이', '화방높이', '줄기굵기']\n",
    "    sang = pd.read_excel(n)\n",
    "    sang = sang[col]\n",
    "    return sang"
   ]
  },
  {
   "cell_type": "code",
   "execution_count": 4,
   "metadata": {},
   "outputs": [],
   "source": [
    "# 환경 데이터 로드\n",
    "def env_data_load(env_farm_name):\n",
    "    n = 'C:\\\\농업기술원\\\\1차\\\\2018\\\\2018-2019 토마토_환경(원본)/'+env_farm_name+'.xlsx'\n",
    "    #col = ['date', '내부온도', '내부습도', '지온', '지습', '이슬점', 'CO2', '외부온도', '풍속', '일사량', '누적일사량','강우', '포화수분', '절대습도', '수분부족분', '이중창환기온도', '환기온도', '난방온도']\n",
    "    col = ['date', '내부온도', '내부습도', 'CO2', '누적일사량']\n",
    "    env = pd.read_excel(n)\n",
    "    env = env[col]\n",
    "    return env"
   ]
  },
  {
   "cell_type": "code",
   "execution_count": 5,
   "metadata": {},
   "outputs": [],
   "source": [
    "# 주차 추가\n",
    "def add_weeknum(sang_df):\n",
    "    sang_df['diff']=sang_df['WeekNum'].shift(1)\n",
    "    sang_df['diff2']=sang_df['WeekNum']-sang_df['diff']\n",
    "    \n",
    "    num=-1\n",
    "    test_week=[]\n",
    "    for i in range(len(sang_df)):\n",
    "        if sang_df['diff2'].loc[i]!=0:\n",
    "            num+=1\n",
    "            test_week.append(num)\n",
    "        else:\n",
    "            test_week.append(num)\n",
    "    del sang_df['diff']\n",
    "    del sang_df['diff2']\n",
    "    return test_week"
   ]
  },
  {
   "cell_type": "code",
   "execution_count": 6,
   "metadata": {},
   "outputs": [],
   "source": [
    "# 12시간 짤라서 Date 추가\n",
    "def env_add_Date(env_df,생육조사기간):\n",
    "    df=pd.DataFrame()\n",
    "    for i in range(len(생육조사기간)-1):\n",
    "        start_i = 생육조사기간[i]+timedelta(hours=12)\n",
    "        end_i = 생육조사기간[i+1]+timedelta(hours=12)\n",
    "\n",
    "        df2 = env_df[(env_df['date']>=start_i) & (env_df['date']<end_i)]\n",
    "        df2['Date']=생육조사기간[i+1]\n",
    "\n",
    "\n",
    "        df=pd.concat([df,df2])\n",
    "    return df"
   ]
  },
  {
   "cell_type": "code",
   "execution_count": 7,
   "metadata": {},
   "outputs": [],
   "source": [
    "def cumsum_to_value(df):\n",
    "    #누적일사량 해결\n",
    "    df['lag_누적일사량']=df['누적일사량'].shift(1)\n",
    "    df['일사량2']=df['누적일사량']-df['lag_누적일사량']\n",
    "\n",
    "    #음수를 0으로 치환 NA를 0으로 치환\n",
    "    df['일사량2_치환']=df['일사량2'].apply(lambda x : 0 if x<0 else x)\n",
    "    df['일사량']=df['일사량2_치환'].fillna(0)\n",
    "\n",
    "    del df['lag_누적일사량']\n",
    "    del df['일사량2']\n",
    "    del df['일사량2_치환']\n",
    "    return df"
   ]
  },
  {
   "cell_type": "code",
   "execution_count": 7,
   "metadata": {},
   "outputs": [],
   "source": [
    "# 생육 Date와 환경 Date 매칭\n",
    "def match_test_weeknum(sang_data,env_data):\n",
    "    dic=dict(zip(sang_data['Date'],sang_data['test_weeknum']))\n",
    "    result=env_data.replace({\"Date\":dic})[\"Date\"]\n",
    "    return result"
   ]
  },
  {
   "cell_type": "code",
   "execution_count": 7,
   "metadata": {},
   "outputs": [],
   "source": [
    "# 아래 함수에 대한 pivot_table\n",
    "def my_pivot(df,type=None):\n",
    "    if type=='avg':\n",
    "        result = df.pivot_table(index=\"주차\",\n",
    "                               values=['내부온도','내부습도','CO2'],\n",
    "                               aggfunc=type)\n",
    "        \n",
    "    if type=='cumsum':\n",
    "        \n",
    "        "
   ]
  },
  {
   "cell_type": "code",
   "execution_count": 29,
   "metadata": {},
   "outputs": [],
   "source": [
    "# 1주일 단위로 각 변수 집계\n",
    "def cal_col(env_data,avg_col_list,cumsum_col_list,sum_col_list):\n",
    "    # 평균 DF\n",
    "    avg_df=env_data[avg_col_list]\n",
    "        \n",
    "    # 누적합 DF\n",
    "    cumsum_df=env_data[cumsum_col_list]\n",
    "    \n",
    "    # 합 DF\n",
    "    sum_df\n",
    "    "
   ]
  },
  {
   "cell_type": "code",
   "execution_count": 11,
   "metadata": {},
   "outputs": [
    {
     "data": {
      "text/html": [
       "<div>\n",
       "<style scoped>\n",
       "    .dataframe tbody tr th:only-of-type {\n",
       "        vertical-align: middle;\n",
       "    }\n",
       "\n",
       "    .dataframe tbody tr th {\n",
       "        vertical-align: top;\n",
       "    }\n",
       "\n",
       "    .dataframe thead th {\n",
       "        text-align: right;\n",
       "    }\n",
       "</style>\n",
       "<table border=\"1\" class=\"dataframe\">\n",
       "  <thead>\n",
       "    <tr style=\"text-align: right;\">\n",
       "      <th></th>\n",
       "      <th>date</th>\n",
       "      <th>내부온도</th>\n",
       "      <th>내부습도</th>\n",
       "      <th>CO2</th>\n",
       "      <th>누적일사량</th>\n",
       "      <th>Date</th>\n",
       "      <th>주차</th>\n",
       "    </tr>\n",
       "  </thead>\n",
       "  <tbody>\n",
       "    <tr>\n",
       "      <th>35264</th>\n",
       "      <td>2018-11-19 12:00:00</td>\n",
       "      <td>23.5</td>\n",
       "      <td>60.4</td>\n",
       "      <td>282</td>\n",
       "      <td>525</td>\n",
       "      <td>2018-11-26</td>\n",
       "      <td>1</td>\n",
       "    </tr>\n",
       "    <tr>\n",
       "      <th>35265</th>\n",
       "      <td>2018-11-19 12:01:01</td>\n",
       "      <td>23.4</td>\n",
       "      <td>58.9</td>\n",
       "      <td>287</td>\n",
       "      <td>528</td>\n",
       "      <td>2018-11-26</td>\n",
       "      <td>1</td>\n",
       "    </tr>\n",
       "    <tr>\n",
       "      <th>35266</th>\n",
       "      <td>2018-11-19 12:02:00</td>\n",
       "      <td>23.4</td>\n",
       "      <td>58.6</td>\n",
       "      <td>290</td>\n",
       "      <td>531</td>\n",
       "      <td>2018-11-26</td>\n",
       "      <td>1</td>\n",
       "    </tr>\n",
       "    <tr>\n",
       "      <th>35267</th>\n",
       "      <td>2018-11-19 12:03:00</td>\n",
       "      <td>23.4</td>\n",
       "      <td>58.9</td>\n",
       "      <td>283</td>\n",
       "      <td>535</td>\n",
       "      <td>2018-11-26</td>\n",
       "      <td>1</td>\n",
       "    </tr>\n",
       "    <tr>\n",
       "      <th>35268</th>\n",
       "      <td>2018-11-19 12:04:00</td>\n",
       "      <td>23.3</td>\n",
       "      <td>59.0</td>\n",
       "      <td>287</td>\n",
       "      <td>538</td>\n",
       "      <td>2018-11-26</td>\n",
       "      <td>1</td>\n",
       "    </tr>\n",
       "  </tbody>\n",
       "</table>\n",
       "</div>"
      ],
      "text/plain": [
       "                     date  내부온도  내부습도  CO2  누적일사량       Date  주차\n",
       "35264 2018-11-19 12:00:00  23.5  60.4  282    525 2018-11-26   1\n",
       "35265 2018-11-19 12:01:01  23.4  58.9  287    528 2018-11-26   1\n",
       "35266 2018-11-19 12:02:00  23.4  58.6  290    531 2018-11-26   1\n",
       "35267 2018-11-19 12:03:00  23.4  58.9  283    535 2018-11-26   1\n",
       "35268 2018-11-19 12:04:00  23.3  59.0  287    538 2018-11-26   1"
      ]
     },
     "execution_count": 11,
     "metadata": {},
     "output_type": "execute_result"
    }
   ],
   "source": [
    "env_data.head(5)"
   ]
  },
  {
   "cell_type": "code",
   "execution_count": 12,
   "metadata": {},
   "outputs": [],
   "source": []
  },
  {
   "cell_type": "code",
   "execution_count": 12,
   "metadata": {},
   "outputs": [],
   "source": []
  },
  {
   "cell_type": "code",
   "execution_count": 12,
   "metadata": {},
   "outputs": [],
   "source": []
  },
  {
   "cell_type": "code",
   "execution_count": 12,
   "metadata": {},
   "outputs": [],
   "source": []
  },
  {
   "cell_type": "code",
   "execution_count": 12,
   "metadata": {},
   "outputs": [],
   "source": []
  },
  {
   "cell_type": "code",
   "execution_count": null,
   "metadata": {},
   "outputs": [],
   "source": [
    "# shift n주차\n",
    "def last_week(n):\n",
    "    # 표본 넘버,날짜로 정렬하고 쉬프트 시키면 끝일듯?\n",
    "    # 쉬프트 시켜서 다음 표본의 첫번째 행은 NA로 치환\n",
    "    "
   ]
  },
  {
   "cell_type": "code",
   "execution_count": null,
   "metadata": {},
   "outputs": [],
   "source": []
  },
  {
   "cell_type": "code",
   "execution_count": null,
   "metadata": {},
   "outputs": [],
   "source": []
  },
  {
   "cell_type": "markdown",
   "metadata": {},
   "source": [
    "----\n",
    "# 1. 생장길이"
   ]
  },
  {
   "cell_type": "code",
   "execution_count": 10,
   "metadata": {},
   "outputs": [],
   "source": [
    "# 한 농장 sang 로드\n",
    "sang_data = sang_data_load('민수네토마토_강윤성_생육')\n",
    "\n",
    "# 한 농장 env 로드\n",
    "env_data = env_data_load('민수네토마토_강윤성_환경')\n",
    "\n",
    "# 한 농장에 주차 추가\n",
    "sang_data['test_weeknum']=add_weeknum(sang_data)\n",
    "\n",
    "# 환경에 Date컬럼 추가, 12시기준 쪼개기\n",
    "생육조사기간=sorted(list(set(list(sang_data['Date']))))\n",
    "env_data=env_add_Date(env_data,생육조사기간)\n",
    "\n",
    "# 환경 데이터에 주차 컬럼 추가\n",
    "env_data['주차']=match_test_weeknum(sang_data,env_data)\n",
    "\n",
    "# 누적 해결\n",
    "base_col=['date','Date','주차']\n",
    "cumsum_col=['누적일사량']\n",
    "cumsum_col=base_col.append(sumsum_col)\n",
    "\n",
    "cumsum_df=cumsum_to_value(env_data[cumsum_col])\n",
    "\n",
    "\n",
    "# 일주일단위로 집계\n",
    "avg_list=['date','내부온도','내부습도','CO2','Date','주차']\n",
    "cumsum_list=['date','누적일사량','Date','주차']\n",
    "sum_list=[]\n",
    "env_data_week=cal_col(env_data,avg_list,sum_list,cumsum_list)"
   ]
  },
  {
   "cell_type": "code",
   "execution_count": null,
   "metadata": {},
   "outputs": [],
   "source": []
  },
  {
   "cell_type": "code",
   "execution_count": null,
   "metadata": {},
   "outputs": [],
   "source": []
  },
  {
   "cell_type": "code",
   "execution_count": null,
   "metadata": {},
   "outputs": [],
   "source": []
  },
  {
   "cell_type": "code",
   "execution_count": null,
   "metadata": {},
   "outputs": [],
   "source": []
  },
  {
   "cell_type": "code",
   "execution_count": null,
   "metadata": {},
   "outputs": [],
   "source": []
  },
  {
   "cell_type": "code",
   "execution_count": null,
   "metadata": {},
   "outputs": [],
   "source": []
  },
  {
   "cell_type": "code",
   "execution_count": null,
   "metadata": {},
   "outputs": [],
   "source": []
  },
  {
   "cell_type": "code",
   "execution_count": null,
   "metadata": {},
   "outputs": [],
   "source": []
  },
  {
   "cell_type": "code",
   "execution_count": null,
   "metadata": {},
   "outputs": [],
   "source": []
  },
  {
   "cell_type": "code",
   "execution_count": null,
   "metadata": {},
   "outputs": [],
   "source": []
  },
  {
   "cell_type": "code",
   "execution_count": null,
   "metadata": {},
   "outputs": [],
   "source": []
  },
  {
   "cell_type": "code",
   "execution_count": null,
   "metadata": {},
   "outputs": [],
   "source": []
  },
  {
   "cell_type": "code",
   "execution_count": null,
   "metadata": {},
   "outputs": [],
   "source": []
  },
  {
   "cell_type": "code",
   "execution_count": null,
   "metadata": {},
   "outputs": [],
   "source": []
  },
  {
   "cell_type": "code",
   "execution_count": null,
   "metadata": {},
   "outputs": [],
   "source": []
  },
  {
   "cell_type": "code",
   "execution_count": null,
   "metadata": {},
   "outputs": [],
   "source": []
  },
  {
   "cell_type": "code",
   "execution_count": null,
   "metadata": {},
   "outputs": [],
   "source": []
  },
  {
   "cell_type": "code",
   "execution_count": null,
   "metadata": {},
   "outputs": [],
   "source": []
  },
  {
   "cell_type": "code",
   "execution_count": null,
   "metadata": {},
   "outputs": [],
   "source": []
  },
  {
   "cell_type": "code",
   "execution_count": null,
   "metadata": {},
   "outputs": [],
   "source": []
  },
  {
   "cell_type": "code",
   "execution_count": null,
   "metadata": {},
   "outputs": [],
   "source": []
  },
  {
   "cell_type": "code",
   "execution_count": null,
   "metadata": {},
   "outputs": [],
   "source": []
  },
  {
   "cell_type": "code",
   "execution_count": null,
   "metadata": {},
   "outputs": [],
   "source": []
  },
  {
   "cell_type": "code",
   "execution_count": null,
   "metadata": {},
   "outputs": [],
   "source": []
  },
  {
   "cell_type": "code",
   "execution_count": null,
   "metadata": {},
   "outputs": [],
   "source": []
  },
  {
   "cell_type": "code",
   "execution_count": null,
   "metadata": {},
   "outputs": [],
   "source": []
  },
  {
   "cell_type": "code",
   "execution_count": null,
   "metadata": {},
   "outputs": [],
   "source": []
  },
  {
   "cell_type": "code",
   "execution_count": null,
   "metadata": {},
   "outputs": [],
   "source": []
  },
  {
   "cell_type": "code",
   "execution_count": null,
   "metadata": {},
   "outputs": [],
   "source": []
  },
  {
   "cell_type": "code",
   "execution_count": null,
   "metadata": {},
   "outputs": [],
   "source": []
  },
  {
   "cell_type": "code",
   "execution_count": null,
   "metadata": {},
   "outputs": [],
   "source": []
  },
  {
   "cell_type": "code",
   "execution_count": null,
   "metadata": {},
   "outputs": [],
   "source": []
  },
  {
   "cell_type": "code",
   "execution_count": null,
   "metadata": {},
   "outputs": [],
   "source": []
  },
  {
   "cell_type": "code",
   "execution_count": null,
   "metadata": {},
   "outputs": [],
   "source": []
  },
  {
   "cell_type": "code",
   "execution_count": null,
   "metadata": {},
   "outputs": [],
   "source": []
  },
  {
   "cell_type": "code",
   "execution_count": null,
   "metadata": {},
   "outputs": [],
   "source": []
  },
  {
   "cell_type": "code",
   "execution_count": null,
   "metadata": {},
   "outputs": [],
   "source": []
  }
 ],
 "metadata": {
  "kernelspec": {
   "display_name": "Python 3",
   "language": "python",
   "name": "python3"
  },
  "language_info": {
   "codemirror_mode": {
    "name": "ipython",
    "version": 3
   },
   "file_extension": ".py",
   "mimetype": "text/x-python",
   "name": "python",
   "nbconvert_exporter": "python",
   "pygments_lexer": "ipython3",
   "version": "3.8.3"
  }
 },
 "nbformat": 4,
 "nbformat_minor": 4
}
