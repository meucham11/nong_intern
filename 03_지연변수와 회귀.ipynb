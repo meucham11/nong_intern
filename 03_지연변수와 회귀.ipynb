{
 "cells": [
  {
   "cell_type": "code",
   "execution_count": 1,
   "metadata": {},
   "outputs": [],
   "source": [
    "import os\n",
    "import pandas as pd\n",
    "import numpy as np\n",
    "import matplotlib.pyplot as plt\n",
    "import seaborn as sns\n",
    "import datetime\n",
    "from datetime import datetime\n",
    "from datetime import timedelta\n",
    "\n",
    "import warnings\n",
    "warnings.filterwarnings(action='ignore') \n",
    "\n",
    "# 사이킷런\n",
    "from sklearn.preprocessing import PolynomialFeatures\n",
    "from sklearn.linear_model import LinearRegression"
   ]
  },
  {
   "cell_type": "code",
   "execution_count": 2,
   "metadata": {},
   "outputs": [],
   "source": [
    "pd.set_option('display.max_row', 5000)\n",
    "pd.set_option('display.max_columns', 100)\n",
    "\n",
    "from matplotlib import font_manager, rc\n",
    "import matplotlib\n",
    "font_name = font_manager.FontProperties(fname=\"c:/Windows/Fonts/malgun.ttf\").get_name()\n",
    "\n",
    "rc('font', family=font_name)\n",
    "\n",
    "matplotlib.rcParams['axes.unicode_minus'] = False"
   ]
  },
  {
   "cell_type": "markdown",
   "metadata": {},
   "source": [
    "# mission 지연변수 만들기\n",
    "* 각 농가별 주차별로\n",
    "* 농가 모두 합쳐서 전체 표본을 대상으로\n",
    "</br>\n",
    "</br>지연 시간은 5주 ~ 10주까지 돌려보자\n",
    "1. 생장길이\n",
    "2. 경경\n",
    "3. 화방높이"
   ]
  },
  {
   "cell_type": "code",
   "execution_count": 129,
   "metadata": {},
   "outputs": [],
   "source": [
    "# 생육 데이터\n",
    "# 넓은들_송태근,제일_황종운 제외\n",
    "sang_list =[\n",
    "    \n",
    "    #'대수농장_이중범_생육',\n",
    "    '로즈밸리_정병두_생육',\n",
    "    '마이산토마토_강성백_생육',\n",
    "    '민수네토마토_강윤성_생육',\n",
    "    #'바구리봉_임윤호_생육',\n",
    "    #'번영농장_권현자_감마_생육',\n",
    "    #'번영농장_권현자_레드250_생육',\n",
    "    #'봉대농장_조봉대_생육',\n",
    "    '오마이토마토_오길택_생육',\n",
    "    #'으뜸_김재원_생육',\n",
    "    '장수파프리카_김인기_생육',\n",
    "    '장수파프리카_김인기_생육2',\n",
    "    '지수농장_김경환_생육',\n",
    "    #'지평선농원_안경엽_생육',\n",
    "    '지평선농장_안상천_생육',\n",
    "    '천천팜_송완섭_생육',\n",
    "    #'태봉_하수용_생육',\n",
    "    '털보_박병준-생육',\n",
    "    '하늘아래_김선배_생육',\n",
    "    '해오름_한동근_생육',\n",
    "    '해오름_한동근_생육2',\n",
    "    '햇살농장_김영호_생육',\n",
    "    '현가농장_김대만_생육',\n",
    "    #'희망농원_허덕문_생육',\n",
    "]\n",
    "\n",
    "# 환경 데이터\n",
    "env_list =[\n",
    "    #'대수농장_이중범_환경',\n",
    "    '로즈밸리_정병두_환경',\n",
    "    '마이산토마토_강성백_환경',\n",
    "    '민수네토마토_강윤성_환경',\n",
    "    #'바구리봉_임윤호_환경',\n",
    "    #'번영농장_권현자_환경',\n",
    "    #'번영농장_권현자_환경',\n",
    "    #'봉대농장_조봉대_환경',\n",
    "    '오마이토마토_오길택_환경',\n",
    "    #'으뜸_김재원_환경',\n",
    "    '장수파프리카_김인기_환경',\n",
    "    '장수파프리카_김인기_환경2',\n",
    "    '지수농원_김경환_환경',\n",
    "    #'지평선농원_안경엽_환경',\n",
    "    '지평선농장_안상천_환경',\n",
    "    '천천팜_송완섭_환경',\n",
    "    #'태봉_하수용_환경',\n",
    "    '털보농장_박병준_환경',\n",
    "    '하늘아래_김선배_환경',\n",
    "    '해오름_한동근_환경',\n",
    "    '해오름_한동근_환경2',\n",
    "    '햇살농장_김영호_환경',\n",
    "    '현가농장_김대만_환경',\n",
    "    #'희망농원_허덕문_환경'\n",
    "]"
   ]
  },
  {
   "cell_type": "markdown",
   "metadata": {},
   "source": [
    "----\n",
    "# 사용자 지정함수"
   ]
  },
  {
   "cell_type": "code",
   "execution_count": 142,
   "metadata": {},
   "outputs": [],
   "source": [
    "# 생육 데이터 로드\n",
    "def sang_data_load(sang_farm_name,col):\n",
    "    n = 'C:\\\\농업기술원\\\\1차\\\\2018\\\\2018-2019 토마토_생육(원본)/'+sang_farm_name+'.xlsx'\n",
    "    sang = pd.read_excel(n)\n",
    "    sang = sang[col]\n",
    "    return sang"
   ]
  },
  {
   "cell_type": "code",
   "execution_count": 143,
   "metadata": {},
   "outputs": [],
   "source": [
    "# 환경 데이터 로드\n",
    "def env_data_load(env_farm_name,col):\n",
    "    n = 'C:\\\\농업기술원\\\\1차\\\\2018\\\\2018-2019 토마토_환경(원본)/'+env_farm_name+'.xlsx'\n",
    "    #col = ['date', '내부온도', '내부습도', '지온', '지습', '이슬점', 'CO2', '외부온도', '풍속', '일사량', '누적일사량','강우', '포화수분', '절대습도', '수분부족분', '이중창환기온도', '환기온도', '난방온도']\n",
    "    env = pd.read_excel(n)\n",
    "    env = env[col]\n",
    "    return env"
   ]
  },
  {
   "cell_type": "code",
   "execution_count": 144,
   "metadata": {},
   "outputs": [],
   "source": [
    "# 주차 추가\n",
    "def add_weeknum(sang_df):\n",
    "    sang_df['diff']=sang_df['WeekNum'].shift(1)\n",
    "    sang_df['diff2']=sang_df['WeekNum']-sang_df['diff']\n",
    "    \n",
    "    num=-1\n",
    "    test_week=[]\n",
    "    for i in range(len(sang_df)):\n",
    "        if sang_df['diff2'].loc[i]!=0:\n",
    "            num+=1\n",
    "            test_week.append(num)\n",
    "        else:\n",
    "            test_week.append(num)\n",
    "    del sang_df['diff']\n",
    "    del sang_df['diff2']\n",
    "    return test_week"
   ]
  },
  {
   "cell_type": "code",
   "execution_count": 145,
   "metadata": {},
   "outputs": [],
   "source": [
    "# 12시간 짤라서 Date 추가\n",
    "def env_add_Date(env_df,생육조사기간):\n",
    "    df=pd.DataFrame()\n",
    "    for i in range(len(생육조사기간)-1):\n",
    "        start_i = 생육조사기간[i]+timedelta(hours=12)\n",
    "        end_i = 생육조사기간[i+1]+timedelta(hours=12)\n",
    "\n",
    "        df2 = env_df[(env_df['date']>=start_i) & (env_df['date']<end_i)]\n",
    "        df2['Date']=생육조사기간[i+1]\n",
    "\n",
    "\n",
    "        df=pd.concat([df,df2])\n",
    "    return df"
   ]
  },
  {
   "cell_type": "code",
   "execution_count": 146,
   "metadata": {},
   "outputs": [],
   "source": [
    "def cumsum_to_value(df):\n",
    "    #누적일사량 해결\n",
    "    df['lag_누적일사량']=df['누적일사량'].shift(1)\n",
    "    df['일사량2']=df['누적일사량']-df['lag_누적일사량']\n",
    "\n",
    "    #음수를 0으로 치환 NA를 0으로 치환\n",
    "    df['일사량2_치환']=df['일사량2'].apply(lambda x : 0 if x<0 else x)\n",
    "    df['일사량']=df['일사량2_치환'].fillna(0)\n",
    "\n",
    "    del df['lag_누적일사량']\n",
    "    del df['일사량2']\n",
    "    del df['일사량2_치환']\n",
    "    return df"
   ]
  },
  {
   "cell_type": "code",
   "execution_count": 147,
   "metadata": {},
   "outputs": [],
   "source": [
    "# 생육 Date와 환경 Date 매칭\n",
    "def match_test_weeknum(sang_data,env_data):\n",
    "    dic=dict(zip(sang_data['Date'],sang_data['test_weeknum']))\n",
    "    result=env_data.replace({\"Date\":dic})[\"Date\"]\n",
    "    return result"
   ]
  },
  {
   "cell_type": "code",
   "execution_count": 148,
   "metadata": {},
   "outputs": [],
   "source": [
    "# 1주일 단위로 각 변수 집계\n",
    "def my_pivot(env_data,base_col,avg_col_list,sum_col_list):\n",
    "    avg_col=base_col+avg_col_list\n",
    "    sum_col=base_col+sum_col_list\n",
    "\n",
    "    # 평균 DF\n",
    "    avg_df=env_data[avg_col]\n",
    "    avg_pivot=env_data.pivot_table(index='주차',\n",
    "                                  values=avg_col_list,\n",
    "                                  aggfunc='mean').reset_index()\n",
    "    # 합 DF\n",
    "    sum_df=env_data[sum_col]\n",
    "    sum_pivot=env_data.pivot_table(index='주차',\n",
    "                                  values=sum_col_list,\n",
    "                                  aggfunc='sum').reset_index()\n",
    "    \n",
    "    \n",
    "    return avg_pivot,sum_pivot"
   ]
  },
  {
   "cell_type": "code",
   "execution_count": 152,
   "metadata": {},
   "outputs": [],
   "source": [
    "def box_to_find_outlier(env_data,name,cols):\n",
    "    plt.figure(figsize=[7,6])\n",
    "    plt.subplots_adjust(left = 0, bottom = 0, right = 1, top = 1, hspace = 1, wspace = 0.5)\n",
    "    cnt_cols = 2\n",
    "    cnt_rows = 2 \n",
    "    for k,env in enumerate(cols):\n",
    "        plt.subplot(cnt_rows, cnt_cols, k+1)\n",
    "\n",
    "        print(name[0][:-3:],'\\n\\n')\n",
    "        sns.boxplot(data=env_data,x='주차',y=env)\n",
    "        plt.title(name[0][:-3:]+'_'+env)\n",
    "        plt.show()"
   ]
  },
  {
   "cell_type": "code",
   "execution_count": null,
   "metadata": {},
   "outputs": [],
   "source": []
  },
  {
   "cell_type": "code",
   "execution_count": null,
   "metadata": {},
   "outputs": [],
   "source": []
  },
  {
   "cell_type": "code",
   "execution_count": null,
   "metadata": {},
   "outputs": [],
   "source": []
  },
  {
   "cell_type": "markdown",
   "metadata": {},
   "source": [
    "----\n",
    "# 1. 환경 요인 데이터셋 구성하기"
   ]
  },
  {
   "cell_type": "markdown",
   "metadata": {},
   "source": [
    "- 누적일사량을 증가량으로 바꿔주기"
   ]
  },
  {
   "cell_type": "markdown",
   "metadata": {},
   "source": [
    "- 이상치 파악하기"
   ]
  },
  {
   "cell_type": "code",
   "execution_count": null,
   "metadata": {},
   "outputs": [],
   "source": [
    "total_dataset=[]\n",
    "for i in range(len(sang_list)):\n",
    "\n",
    "    # 한 농장 sang 로드\n",
    "    sang_col=['농가명', 'Date', 'Year', 'Month', 'Day', 'Week', 'WeekNum', 'Sample', '생장길이', '화방높이', '줄기굵기']\n",
    "    sang_data = sang_data_load(sang_list[i],sang_col)\n",
    "    \n",
    "    \n",
    "    # 한 농장 env 로드\n",
    "    env_col = ['date', '내부온도', '내부습도', 'CO2', '누적일사량']\n",
    "    env_data = env_data_load(env_list[i],env_col)\n",
    "\n",
    "    # 한 농장에 주차 추가\n",
    "    sang_data['test_weeknum']=add_weeknum(sang_data)\n",
    "\n",
    "    # 환경에 Date컬럼 추가, 12시기준 쪼개기\n",
    "    생육조사기간=sorted(list(set(list(sang_data['Date']))))\n",
    "    env_data=env_add_Date(env_data,생육조사기간)\n",
    "\n",
    "    # 환경 데이터에 주차 컬럼 추가\n",
    "    env_data['주차']=match_test_weeknum(sang_data,env_data)\n",
    "\n",
    "    # 누적을 증가량으로 바꿔주기\n",
    "    base_col=['date','Date','주차']\n",
    "    cumsum_list=['누적일사량']\n",
    "    cumsum_col=base_col+cumsum_list\n",
    "\n",
    "    cumsum_df=cumsum_to_value(env_data[cumsum_col])\n",
    "    env_data['일사량']=cumsum_df['일사량']\n",
    "    del env_data['누적일사량']\n",
    "\n",
    "\n",
    "    # 환경 데이터 변수명\n",
    "    avg_list=['내부온도','내부습도','CO2']\n",
    "    sum_list=['일사량']\n",
    "    \n",
    "    cols=avg_list+sum_list\n",
    "    \n",
    "    # 이상치 파악하기\n",
    "    box_to_find_outlier(env_data,name,cols)\n",
    "    \n",
    "    total_dataset.append(env_data)"
   ]
  },
  {
   "cell_type": "code",
   "execution_count": null,
   "metadata": {},
   "outputs": [],
   "source": []
  },
  {
   "cell_type": "markdown",
   "metadata": {},
   "source": [
    "- 주차별로 집계하기"
   ]
  },
  {
   "cell_type": "code",
   "execution_count": 94,
   "metadata": {},
   "outputs": [],
   "source": [
    "# pivot\n",
    "avg_pivot,sum_pivot=my_pivot(env_data,base_col,avg_list,sum_list)\n",
    "\n",
    "result=pd.merge(avg_pivot,sum_pivot,how='inner')\n",
    "result"
   ]
  },
  {
   "cell_type": "markdown",
   "metadata": {},
   "source": [
    "- 지연변수 생성하기"
   ]
  },
  {
   "cell_type": "code",
   "execution_count": null,
   "metadata": {},
   "outputs": [],
   "source": []
  },
  {
   "cell_type": "code",
   "execution_count": null,
   "metadata": {},
   "outputs": [],
   "source": []
  },
  {
   "cell_type": "code",
   "execution_count": null,
   "metadata": {},
   "outputs": [],
   "source": []
  },
  {
   "cell_type": "code",
   "execution_count": null,
   "metadata": {},
   "outputs": [],
   "source": []
  },
  {
   "cell_type": "code",
   "execution_count": null,
   "metadata": {},
   "outputs": [],
   "source": []
  },
  {
   "cell_type": "code",
   "execution_count": null,
   "metadata": {},
   "outputs": [],
   "source": []
  },
  {
   "cell_type": "code",
   "execution_count": null,
   "metadata": {},
   "outputs": [],
   "source": []
  },
  {
   "cell_type": "code",
   "execution_count": null,
   "metadata": {},
   "outputs": [],
   "source": []
  },
  {
   "cell_type": "code",
   "execution_count": null,
   "metadata": {},
   "outputs": [],
   "source": []
  },
  {
   "cell_type": "code",
   "execution_count": null,
   "metadata": {},
   "outputs": [],
   "source": []
  },
  {
   "cell_type": "code",
   "execution_count": null,
   "metadata": {},
   "outputs": [],
   "source": []
  },
  {
   "cell_type": "code",
   "execution_count": null,
   "metadata": {},
   "outputs": [],
   "source": []
  }
 ],
 "metadata": {
  "kernelspec": {
   "display_name": "Python 3",
   "language": "python",
   "name": "python3"
  },
  "language_info": {
   "codemirror_mode": {
    "name": "ipython",
    "version": 3
   },
   "file_extension": ".py",
   "mimetype": "text/x-python",
   "name": "python",
   "nbconvert_exporter": "python",
   "pygments_lexer": "ipython3",
   "version": "3.8.3"
  }
 },
 "nbformat": 4,
 "nbformat_minor": 4
}
